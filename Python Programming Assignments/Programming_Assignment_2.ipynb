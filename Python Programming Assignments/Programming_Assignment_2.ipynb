{
 "cells": [
  {
   "cell_type": "markdown",
   "metadata": {},
   "source": [
    "1.\tWrite a Python program to convert kilometers to miles?"
   ]
  },
  {
   "cell_type": "code",
   "execution_count": 1,
   "metadata": {},
   "outputs": [
    {
     "name": "stdout",
     "output_type": "stream",
     "text": [
      "enter kilomenters4\n",
      "miles =  2.485484\n"
     ]
    }
   ],
   "source": [
    "# conversion factor 0.621371\n",
    "\n",
    "km = float(input(\"enter kilomenters\"))\n",
    "\n",
    "conv = 0.621371\n",
    "\n",
    "miles = km * conv\n",
    "\n",
    "print(\"miles = \",miles)"
   ]
  },
  {
   "cell_type": "markdown",
   "metadata": {},
   "source": [
    "2.\tWrite a Python program to convert Celsius to Fahrenheit?"
   ]
  },
  {
   "cell_type": "code",
   "execution_count": 2,
   "metadata": {},
   "outputs": [
    {
     "name": "stdout",
     "output_type": "stream",
     "text": [
      "enter temperature in celsius : 38\n",
      "In fahrenheit =  100.4\n"
     ]
    }
   ],
   "source": [
    "cel = float(input(\"enter temperature in celsius : \"))\n",
    "fah = cel  * 1.8 + 32\n",
    "\n",
    "print(\"In fahrenheit = \",fah)"
   ]
  },
  {
   "cell_type": "markdown",
   "metadata": {},
   "source": [
    "3.\tWrite a Python program to display calendar?"
   ]
  },
  {
   "cell_type": "code",
   "execution_count": 5,
   "metadata": {},
   "outputs": [
    {
     "name": "stdout",
     "output_type": "stream",
     "text": [
      "    January 2022\n",
      "Mo Tu We Th Fr Sa Su\n",
      "                1  2\n",
      " 3  4  5  6  7  8  9\n",
      "10 11 12 13 14 15 16\n",
      "17 18 19 20 21 22 23\n",
      "24 25 26 27 28 29 30\n",
      "31\n",
      "\n"
     ]
    }
   ],
   "source": [
    "import calendar\n",
    "\n",
    "print(calendar.month(2022,1))"
   ]
  },
  {
   "cell_type": "markdown",
   "metadata": {},
   "source": [
    "4.\tWrite a Python program to solve quadratic equation?"
   ]
  },
  {
   "cell_type": "code",
   "execution_count": 14,
   "metadata": {},
   "outputs": [
    {
     "name": "stdout",
     "output_type": "stream",
     "text": [
      "enter a :4\n",
      "enter b :8\n",
      "enter c :-16\n",
      "The roots are\n",
      "(-3.23606797749979+0j)\n",
      "(1.2360679774997898+0j)\n"
     ]
    }
   ],
   "source": [
    "#quatratic equation ax^2 + bx + c=0\n",
    "import cmath\n",
    "a=int(input(\"enter a :\"))\n",
    "b=int(input(\"enter b :\"))\n",
    "c=int(input(\"enter c :\"))\n",
    "\n",
    "discriminant = (b**2)-(4*a*c)\n",
    "\n",
    "ans1=(-b-cmath.sqrt(discriminant))/(2*a)\n",
    "ans2=(-b+cmath.sqrt(discriminant))/(2*a)\n",
    "\n",
    "print(\"The roots are\")\n",
    "\n",
    "print(ans1)\n",
    "print(ans2)\n",
    "\n"
   ]
  },
  {
   "cell_type": "markdown",
   "metadata": {},
   "source": [
    "5.\tWrite a Python program to swap two variables without temp variable?"
   ]
  },
  {
   "cell_type": "code",
   "execution_count": 8,
   "metadata": {},
   "outputs": [
    {
     "name": "stdout",
     "output_type": "stream",
     "text": [
      "\t ## before swaping ##\n",
      "\n",
      "x :  5\n",
      "y :  10\n",
      "\t ## after swaping ##\n",
      "\n",
      "x :  10\n",
      "y :  5\n"
     ]
    }
   ],
   "source": [
    "x=5\n",
    "y=10\n",
    "print(\"\\t ## before swaping ##\\n\")\n",
    "print(\"x : \",x)\n",
    "print(\"y : \",y)\n",
    "x=x+y\n",
    "\n",
    "y=x-y\n",
    "\n",
    "x=x-y\n",
    "\n",
    "print(\"\\t ## after swaping ##\\n\")\n",
    "print(\"x : \",x)\n",
    "print(\"y : \",y)"
   ]
  }
 ],
 "metadata": {
  "kernelspec": {
   "display_name": "Python 3",
   "language": "python",
   "name": "python3"
  },
  "language_info": {
   "codemirror_mode": {
    "name": "ipython",
    "version": 3
   },
   "file_extension": ".py",
   "mimetype": "text/x-python",
   "name": "python",
   "nbconvert_exporter": "python",
   "pygments_lexer": "ipython3",
   "version": "3.8.5"
  }
 },
 "nbformat": 4,
 "nbformat_minor": 4
}
