{
 "cells": [
  {
   "cell_type": "markdown",
   "metadata": {},
   "source": [
    "1.\tWrite a Python Program to Find the Factorial of a Number?"
   ]
  },
  {
   "cell_type": "code",
   "execution_count": 1,
   "metadata": {},
   "outputs": [
    {
     "name": "stdout",
     "output_type": "stream",
     "text": [
      "Enter number : 7\n",
      "Factorial of  7  is  5040\n"
     ]
    }
   ],
   "source": [
    "num = int(input(\"Enter number : \"))\n",
    "\n",
    "factorial = 1\n",
    "\n",
    "if num<0:\n",
    "    print(\"Factorial does not exist for negative\")\n",
    "elif num == 0:\n",
    "    print(\"Factorial of 0 is 1 \")\n",
    "else:\n",
    "    for i in range(1,num+1):\n",
    "        factorial = factorial*i\n",
    "    print(\"Factorial of \",num,\" is \",factorial)\n",
    "\n"
   ]
  },
  {
   "cell_type": "markdown",
   "metadata": {},
   "source": [
    "2.\tWrite a Python Program to Display the multiplication Table?"
   ]
  },
  {
   "cell_type": "code",
   "execution_count": 4,
   "metadata": {},
   "outputs": [
    {
     "name": "stdout",
     "output_type": "stream",
     "text": [
      "Enter number : 20\n",
      "20  x  1  =  20\n",
      "20  x  2  =  40\n",
      "20  x  3  =  60\n",
      "20  x  4  =  80\n",
      "20  x  5  =  100\n",
      "20  x  6  =  120\n",
      "20  x  7  =  140\n",
      "20  x  8  =  160\n",
      "20  x  9  =  180\n",
      "20  x  10  =  200\n"
     ]
    }
   ],
   "source": [
    "num = int(input(\"Enter number : \"))\n",
    "\n",
    "for i in range(1,11):\n",
    "    mul=num*i\n",
    "    print(num,\" x \",i,\" = \",mul)"
   ]
  },
  {
   "cell_type": "markdown",
   "metadata": {},
   "source": [
    "3.\tWrite a Python Program to Print the Fibonacci sequence?"
   ]
  },
  {
   "cell_type": "code",
   "execution_count": 6,
   "metadata": {},
   "outputs": [
    {
     "name": "stdout",
     "output_type": "stream",
     "text": [
      "Enter number : 7\n",
      "fibonacci sequence: \n",
      "0\n",
      "1\n",
      "1\n",
      "2\n",
      "3\n",
      "5\n",
      "8\n"
     ]
    }
   ],
   "source": [
    "num = int(input(\"Enter number : \"))\n",
    "n1 =0\n",
    "n2=1\n",
    "count=0\n",
    "\n",
    "if num<=0:\n",
    "    print(\"enter positive number \")\n",
    "elif num==1:\n",
    "    print(\"fibonacci sequence: \",n1)\n",
    "else:\n",
    "    print(\"fibonacci sequence: \")\n",
    "    while count< num:\n",
    "        print(n1)\n",
    "        n=n1+n2\n",
    "        \n",
    "        n1=n2\n",
    "        n2=n\n",
    "        count=count+1\n",
    "        \n",
    "        "
   ]
  },
  {
   "cell_type": "markdown",
   "metadata": {},
   "source": [
    "4.\tWrite a Python Program to Check Armstrong Number?"
   ]
  },
  {
   "cell_type": "code",
   "execution_count": 12,
   "metadata": {},
   "outputs": [
    {
     "name": "stdout",
     "output_type": "stream",
     "text": [
      "Enter number : 153\n",
      "153  is an armstrong number\n"
     ]
    }
   ],
   "source": [
    "num = int(input(\"Enter number : \"))\n",
    "\n",
    "l = len(str(num)) #number of digits \n",
    "\n",
    "sum=0 #initialize sum to 0\n",
    "\n",
    "a=num #temp number \n",
    "\n",
    "while a>0:\n",
    "    dig=a%10\n",
    "    sum=sum+dig**l #sum digit with order of digits\n",
    "    a=a//10 \n",
    "    \n",
    "if num == sum:\n",
    "    print(num,\" is an armstrong number\")\n",
    "else:\n",
    "    print(num,\" is not an armstrong number\")"
   ]
  },
  {
   "cell_type": "markdown",
   "metadata": {},
   "source": [
    "5.\tWrite a Python Program to Find Armstrong Number in an Interval?"
   ]
  },
  {
   "cell_type": "code",
   "execution_count": 14,
   "metadata": {},
   "outputs": [
    {
     "name": "stdout",
     "output_type": "stream",
     "text": [
      "153\n",
      "370\n",
      "371\n",
      "407\n"
     ]
    }
   ],
   "source": [
    "low=10\n",
    "upper = 1000\n",
    "\n",
    "for num in range(low,upper+1):\n",
    "    ord= len(str(num)) #number of digits \n",
    "    \n",
    "    sum=0 #initialize sum to 0\n",
    "    \n",
    "    tem=num #temp number \n",
    "    \n",
    "    while tem>0: \n",
    "        dig = tem%10 #obtain each digit\n",
    "        sum = sum+dig**ord #sum digit with order of digits\n",
    "        tem = tem//10 #last digit of number\n",
    "    if num==sum:\n",
    "        print(num)"
   ]
  },
  {
   "cell_type": "markdown",
   "metadata": {},
   "source": [
    "6.\tWrite a Python Program to Find the Sum of Natural Numbers?"
   ]
  },
  {
   "cell_type": "code",
   "execution_count": 16,
   "metadata": {},
   "outputs": [
    {
     "name": "stdout",
     "output_type": "stream",
     "text": [
      "Enter number : 16\n",
      "sum :  136\n"
     ]
    }
   ],
   "source": [
    "num = int(input(\"Enter number : \"))\n",
    "\n",
    "if num<0:\n",
    "    print(\"enter positive num\")\n",
    "else:\n",
    "    sum = 0\n",
    "    while num>0:\n",
    "        sum = sum+num\n",
    "        num = num-1\n",
    "    print(\"sum : \",sum)"
   ]
  }
 ],
 "metadata": {
  "kernelspec": {
   "display_name": "Python 3",
   "language": "python",
   "name": "python3"
  },
  "language_info": {
   "codemirror_mode": {
    "name": "ipython",
    "version": 3
   },
   "file_extension": ".py",
   "mimetype": "text/x-python",
   "name": "python",
   "nbconvert_exporter": "python",
   "pygments_lexer": "ipython3",
   "version": "3.8.5"
  }
 },
 "nbformat": 4,
 "nbformat_minor": 4
}
