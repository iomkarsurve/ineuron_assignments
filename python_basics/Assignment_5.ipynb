{
 "cells": [
  {
   "cell_type": "markdown",
   "metadata": {},
   "source": [
    "1. What does an empty dictionary's code look like?"
   ]
  },
  {
   "cell_type": "code",
   "execution_count": 2,
   "metadata": {},
   "outputs": [
    {
     "name": "stdout",
     "output_type": "stream",
     "text": [
      "{}\n",
      "<class 'dict'>\n"
     ]
    }
   ],
   "source": [
    "a={}\n",
    "print(a)\n",
    "print(type(a))"
   ]
  },
  {
   "cell_type": "markdown",
   "metadata": {},
   "source": [
    "2. What is the value of a dictionary value with the key 'foo' and the value 42?"
   ]
  },
  {
   "cell_type": "code",
   "execution_count": 6,
   "metadata": {},
   "outputs": [
    {
     "name": "stdout",
     "output_type": "stream",
     "text": [
      "42\n"
     ]
    }
   ],
   "source": [
    "a = {\n",
    "    'foo':42\n",
    "}\n",
    "\n",
    "print(a['foo'])\n",
    "\n",
    "#value of dictionary is 42"
   ]
  },
  {
   "cell_type": "markdown",
   "metadata": {},
   "source": [
    "3. What is the most significant distinction between a dictionary and a list?"
   ]
  },
  {
   "cell_type": "code",
   "execution_count": 9,
   "metadata": {},
   "outputs": [
    {
     "name": "stdout",
     "output_type": "stream",
     "text": [
      "4\n",
      "3\n"
     ]
    }
   ],
   "source": [
    "# Most significant distinction between a dictionary and a list is in dictionary values are accessed using key and not their postion like in list.\n",
    "\n",
    "a={\n",
    "    'foo':54,\n",
    "    'boo':4\n",
    "}\n",
    "print(a['boo'])\n",
    "\n",
    "b=[1,2,3,4]\n",
    "print(b[2])\n",
    "\n"
   ]
  },
  {
   "cell_type": "markdown",
   "metadata": {},
   "source": [
    "4. What happens if you try to access spam['foo'] if spam is {'bar': 100}?"
   ]
  },
  {
   "cell_type": "code",
   "execution_count": 10,
   "metadata": {},
   "outputs": [
    {
     "ename": "KeyError",
     "evalue": "'foo'",
     "output_type": "error",
     "traceback": [
      "\u001b[1;31m---------------------------------------------------------------------------\u001b[0m",
      "\u001b[1;31mKeyError\u001b[0m                                  Traceback (most recent call last)",
      "\u001b[1;32m<ipython-input-10-079a265ff6c1>\u001b[0m in \u001b[0;36m<module>\u001b[1;34m\u001b[0m\n\u001b[0;32m      2\u001b[0m     \u001b[1;34m'bar'\u001b[0m\u001b[1;33m:\u001b[0m\u001b[1;36m100\u001b[0m\u001b[1;33m\u001b[0m\u001b[1;33m\u001b[0m\u001b[0m\n\u001b[0;32m      3\u001b[0m }\n\u001b[1;32m----> 4\u001b[1;33m \u001b[0mprint\u001b[0m\u001b[1;33m(\u001b[0m\u001b[0mspam\u001b[0m\u001b[1;33m[\u001b[0m\u001b[1;34m'foo'\u001b[0m\u001b[1;33m]\u001b[0m\u001b[1;33m)\u001b[0m\u001b[1;33m\u001b[0m\u001b[1;33m\u001b[0m\u001b[0m\n\u001b[0m",
      "\u001b[1;31mKeyError\u001b[0m: 'foo'"
     ]
    }
   ],
   "source": [
    "spam = {\n",
    "    'bar':100\n",
    "}\n",
    "print(spam['foo'])\n",
    "\n",
    "#since key doesn't exist in dictionary we get error."
   ]
  },
  {
   "cell_type": "markdown",
   "metadata": {},
   "source": [
    "5. If a dictionary is stored in spam, what is the difference between the expressions 'cat' in spam and 'cat' in spam.keys()?"
   ]
  },
  {
   "cell_type": "code",
   "execution_count": 41,
   "metadata": {},
   "outputs": [
    {
     "name": "stdout",
     "output_type": "stream",
     "text": [
      "foo\n",
      "cat\n",
      "foo\n"
     ]
    }
   ],
   "source": [
    "spam={\n",
    "\n",
    "    'foo':'cat'\n",
    "}\n",
    "\n",
    "\n",
    "# 'cat' in spam check if key 'cat' exist in dictionary\n",
    "\n",
    "if('cat' in spam):\n",
    "    print('cat')\n",
    "else:\n",
    "    print(\"foo\")\n",
    "\n",
    "spam={\n",
    "    'cat':23,\n",
    "    'foo':'cat'\n",
    "}\n",
    "\n",
    "# 'cat' in spam.keys() check if key 'cat' exist in dictionary\n",
    "if ( 'cat' in spam.keys()):\n",
    "    print('cat')\n",
    "else:\n",
    "    print(\"foo\")\n",
    "\n",
    "spam={\n",
    "    'cat':23,\n",
    "  \n",
    "}\n",
    "\n",
    "# 'cat' in spam.values() check if value 'cat' exist in dictionary\n",
    "if ( 'cat' in spam.values()):\n",
    "    print('cat')\n",
    "else:\n",
    "    print(\"foo\")\n",
    "\n",
    "     \n",
    "\n"
   ]
  },
  {
   "cell_type": "markdown",
   "metadata": {},
   "source": [
    "6. If a dictionary is stored in spam, what is the difference between the expressions 'cat' in spam and 'cat' in spam.values()?"
   ]
  },
  {
   "cell_type": "code",
   "execution_count": null,
   "metadata": {},
   "outputs": [],
   "source": [
    "spam={\n",
    "\n",
    "    'foo':'cat'\n",
    "}\n",
    "\n",
    "\n",
    "# 'cat' in spam check if key 'cat' exist in dictionary\n",
    "\n",
    "if('cat' in spam):\n",
    "    print('cat')\n",
    "else:\n",
    "    print(\"foo\")\n",
    "\n",
    "spam={\n",
    "    'cat':23,\n",
    "    'foo':'cat'\n",
    "}\n",
    "\n",
    "# 'cat' in spam.keys() check if key 'cat' exist in dictionary\n",
    "if ( 'cat' in spam.keys()):\n",
    "    print('cat')\n",
    "else:\n",
    "    print(\"foo\")\n",
    "\n",
    "spam={\n",
    "    'cat':23,\n",
    "  \n",
    "}\n",
    "\n",
    "# 'cat' in spam.values() check if value 'cat' exist in dictionary\n",
    "if ( 'cat' in spam.values()):\n",
    "    print('cat')\n",
    "else:\n",
    "    print(\"foo\")\n",
    "\n",
    "     \n",
    "\n"
   ]
  },
  {
   "cell_type": "markdown",
   "metadata": {},
   "source": [
    "7. What is a shortcut for the following code?\n",
    "if 'color' not in spam:\n",
    "spam['color'] = 'black'\n"
   ]
  },
  {
   "cell_type": "code",
   "execution_count": 45,
   "metadata": {},
   "outputs": [
    {
     "name": "stdout",
     "output_type": "stream",
     "text": [
      "{'cat': 23}\n",
      "{'cat': 23, 'color': 'black'}\n"
     ]
    }
   ],
   "source": [
    "spam={\n",
    "    'cat':23,\n",
    "  \n",
    "}\n",
    "\n",
    "print(spam)\n",
    "\n",
    "spam.setdefault('color','black')\n",
    "\n",
    "print(spam)"
   ]
  },
  {
   "cell_type": "markdown",
   "metadata": {},
   "source": [
    "8. How do you \"pretty print\" dictionary values using which module and function?"
   ]
  },
  {
   "cell_type": "code",
   "execution_count": 5,
   "metadata": {},
   "outputs": [],
   "source": [
    "import pprint"
   ]
  },
  {
   "cell_type": "code",
   "execution_count": 9,
   "metadata": {},
   "outputs": [
    {
     "name": "stdout",
     "output_type": "stream",
     "text": [
      "[<Recursion on list with id=2152938229440>,\n",
      " 'apple',\n",
      " <Recursion on list with id=2152938229440>,\n",
      " 'banana',\n",
      " 'watermelon']\n"
     ]
    }
   ],
   "source": [
    "#using pprint\n",
    "s= ['apple','banana','watermelon']\n",
    "s.insert(0,s)\n",
    "s.insert(2,s)\n",
    "pprint.pprint(s)\n"
   ]
  }
 ],
 "metadata": {
  "kernelspec": {
   "display_name": "Python 3",
   "language": "python",
   "name": "python3"
  },
  "language_info": {
   "codemirror_mode": {
    "name": "ipython",
    "version": 3
   },
   "file_extension": ".py",
   "mimetype": "text/x-python",
   "name": "python",
   "nbconvert_exporter": "python",
   "pygments_lexer": "ipython3",
   "version": "3.8.5"
  }
 },
 "nbformat": 4,
 "nbformat_minor": 4
}
