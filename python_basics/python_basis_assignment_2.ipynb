{
 "cells": [
  {
   "cell_type": "code",
   "execution_count": 3,
   "metadata": {},
   "outputs": [
    {
     "name": "stdout",
     "output_type": "stream",
     "text": [
      "True False\n"
     ]
    }
   ],
   "source": [
    "#1.What are the two values of the Boolean data type? How do you write them?\n",
    "'''Two Values are - True and False'''\n",
    "a=True\n",
    "b=False\n",
    "print(str(a)+' '+str(b))"
   ]
  },
  {
   "cell_type": "code",
   "execution_count": null,
   "metadata": {},
   "outputs": [],
   "source": [
    "#2. What are the three different types of Boolean operators?\n",
    "'''\n",
    "1) AND\n",
    "2) OR\n",
    "3) NOT\n",
    "'''"
   ]
  },
  {
   "cell_type": "code",
   "execution_count": 16,
   "metadata": {},
   "outputs": [
    {
     "name": "stdout",
     "output_type": "stream",
     "text": [
      "BOOLEAN AND OPERATOR\n",
      "True and True = True\n",
      "False and True = False\n",
      "True and False = False\n",
      "False and False = False\n",
      "BOOLEAN OR OPERATOR\n",
      "True or True = True\n",
      "False or True = True\n",
      "True or False = True\n",
      "False or False = False\n",
      "NOT OPERATOR\n",
      "True not = False\n",
      "False not = False\n",
      "True not = True\n",
      "False not = True\n"
     ]
    }
   ],
   "source": [
    "#3. Make a list of each Boolean operator's truth tables \n",
    "#(i.e. every possible combination of Boolean values for the operator and what it evaluate ).\n",
    "lista =[True, False, True,False]\n",
    "listb =[True, True, False,False]\n",
    "print(\"BOOLEAN AND OPERATOR\")\n",
    "for i in range(len(lista)):\n",
    "               c=lista[i] and listb[i]\n",
    "               print(str(lista[i])+' and '+str(listb[i])+' = '+str(c))\n",
    "print(\"BOOLEAN OR OPERATOR\")\n",
    "for i in range(len(lista)):\n",
    "               c=lista[i] or listb[i]\n",
    "               print(str(lista[i])+' or '+str(listb[i])+' = '+str(c))\n",
    "print(\"NOT OPERATOR\")\n",
    "for i in range(len(lista)):\n",
    "               c=not listb[i]\n",
    "               print(str(lista[i])+' not = '+str(c))\n",
    "\n",
    "\n"
   ]
  },
  {
   "cell_type": "code",
   "execution_count": 23,
   "metadata": {},
   "outputs": [
    {
     "name": "stdout",
     "output_type": "stream",
     "text": [
      "(5 > 4) and (3 == 5) = False\n",
      "not (5 > 4) = False\n",
      "(5 > 4) or (3 == 5) = True\n",
      "not ((5 > 4) or (3 == 5)) = False\n",
      "(True and True) and (True == False) = False\n"
     ]
    }
   ],
   "source": [
    "'''4. What are the values of the following expressions?\n",
    "(5 > 4) and (3 == 5)\n",
    "not (5 > 4)\n",
    "(5 > 4) or (3 == 5)\n",
    "not ((5 > 4) or (3 == 5))\n",
    "(True and True) and (True == False)\n",
    "(not False) or (not True)\n",
    "'''\n",
    "print('(5 > 4) and (3 == 5) = '+str((5 > 4) and (3 == 5)))\n",
    "print('not (5 > 4) = '+str(not (5 > 4)))\n",
    "print('(5 > 4) or (3 == 5) = '+str((5 > 4) or (3 == 5)))\n",
    "print('not ((5 > 4) or (3 == 5)) = '+str(not ((5 > 4) or (3 == 5))))\n",
    "print('(True and True) and (True == False) = '+str((True and True) and (True == False)))\n"
   ]
  },
  {
   "cell_type": "code",
   "execution_count": null,
   "metadata": {},
   "outputs": [],
   "source": [
    "#5. What are the six comparison operators?\n",
    "'''\n",
    "1) ==\n",
    "2) !=\n",
    "3) <>\n",
    "4) >\n",
    "5) <\n",
    "6) <= \n",
    "7) >=\n",
    "'''"
   ]
  },
  {
   "cell_type": "code",
   "execution_count": 25,
   "metadata": {},
   "outputs": [
    {
     "name": "stdout",
     "output_type": "stream",
     "text": [
      "same\n"
     ]
    }
   ],
   "source": [
    "#6. How do you tell the difference between the equal to and assignment operators?\n",
    "#Describe a condition and when you would use one.\n",
    "''' equal to operator== is used to check if value on left side of operator is equal to right side of operator\n",
    "whereas assignment operator= is used to assign value to variable on left side of operator\n",
    "'''\n",
    "op=4\n",
    "if(op==4):\n",
    "    print(\"same\")"
   ]
  },
  {
   "cell_type": "code",
   "execution_count": 27,
   "metadata": {},
   "outputs": [
    {
     "name": "stdout",
     "output_type": "stream",
     "text": [
      "ham\n",
      "spam\n",
      "spam\n"
     ]
    }
   ],
   "source": [
    "#7. Identify the three blocks in this code:\n",
    "spam = 0\n",
    "if spam == 10: #block1 if\n",
    "    print('eggs')\n",
    "if spam > 5: #block2 if \n",
    "    print('bacon')\n",
    "else: #block3 else\n",
    "    print('ham')\n",
    "    print('spam')\n",
    "    print('spam')\n"
   ]
  },
  {
   "cell_type": "code",
   "execution_count": 28,
   "metadata": {},
   "outputs": [
    {
     "name": "stdout",
     "output_type": "stream",
     "text": [
      "Hello\n"
     ]
    }
   ],
   "source": [
    "#8. Write code that prints Hello if 1 is stored in spam, prints Howdy if 2 is stored in spam, and prints Greetings! if anything else is stored in spam.\n",
    "\n",
    "\n",
    "spam=1\n",
    "if spam==1:\n",
    "    print(\"Hello\")\n",
    "elif spam == 2:\n",
    "    print(\"Howdy\")\n",
    "else:\n",
    "    print(\"Greetings!\")\n",
    "    \n",
    "\n",
    "\n"
   ]
  },
  {
   "cell_type": "code",
   "execution_count": null,
   "metadata": {},
   "outputs": [],
   "source": [
    "\n",
    "#9.If your programme is stuck in an endless loop, what keys you’ll press?\n",
    "\n",
    "'''CTRL+C'''\n",
    "\n",
    "\n",
    "\n"
   ]
  },
  {
   "cell_type": "code",
   "execution_count": null,
   "metadata": {},
   "outputs": [],
   "source": [
    "\n",
    "#10. How can you tell the difference between break and continue?\n",
    "'''\n",
    "Break is use to exit from loop\n",
    "where as continue is use to skip iteration and go to next iteration\n",
    "\n",
    "'''\n"
   ]
  },
  {
   "cell_type": "code",
   "execution_count": 33,
   "metadata": {},
   "outputs": [
    {
     "name": "stdout",
     "output_type": "stream",
     "text": [
      "0\n",
      "1\n",
      "2\n",
      "3\n",
      "4\n",
      "5\n",
      "6\n",
      "7\n",
      "8\n",
      "9\n",
      "0\n",
      "1\n",
      "2\n",
      "3\n",
      "4\n",
      "5\n",
      "6\n",
      "7\n",
      "8\n",
      "9\n",
      "0\n",
      "1\n",
      "2\n",
      "3\n",
      "4\n",
      "5\n",
      "6\n",
      "7\n",
      "8\n",
      "9\n"
     ]
    }
   ],
   "source": [
    "\n",
    "\n",
    "#11. In a for loop, what is the difference between range(10), range(0, 10), and range(0, 10, 1)?\n",
    "'''All three for loops are same\n",
    "with start value as 0 , stop and step as 1 which is default if not specified\n",
    "'''\n",
    "for i in range(10):\n",
    "    print(i)\n",
    "for i in range(0,10):\n",
    "    print(i)\n",
    "for i in range(0,10,1):\n",
    "    print(i)\n"
   ]
  },
  {
   "cell_type": "code",
   "execution_count": 39,
   "metadata": {},
   "outputs": [
    {
     "name": "stdout",
     "output_type": "stream",
     "text": [
      "For loop 1-10\n",
      "1\n",
      "2\n",
      "3\n",
      "4\n",
      "5\n",
      "6\n",
      "7\n",
      "8\n",
      "9\n",
      "10\n",
      "While loop 1-10\n",
      "1\n",
      "2\n",
      "3\n",
      "4\n",
      "5\n",
      "6\n",
      "7\n",
      "8\n",
      "9\n",
      "10\n"
     ]
    }
   ],
   "source": [
    "\n",
    "#12. Write a short program that prints the numbers 1 to 10 using a for loop. \n",
    "#Then write an equivalent program that prints the numbers 1 to 10 using a while loop.\n",
    "\n",
    "print(\"For loop 1-10\")\n",
    "for i in range(1,11):\n",
    "    print(i)\n",
    "\n",
    "print(\"While loop 1-10\")\n",
    "i=1\n",
    "while i<=10:\n",
    "    print(i)\n",
    "    i=i+1\n",
    "\n",
    "\n",
    "\n",
    "\n",
    "\n"
   ]
  },
  {
   "cell_type": "code",
   "execution_count": null,
   "metadata": {},
   "outputs": [],
   "source": [
    "#13. If you had a function named bacon() inside a module named spam, \n",
    "#how would you call it after importing spam?\n",
    "'''function can be called using \n",
    "spam.bacon()'''\n",
    "\n",
    "\n"
   ]
  },
  {
   "cell_type": "code",
   "execution_count": null,
   "metadata": {},
   "outputs": [],
   "source": []
  }
 ],
 "metadata": {
  "kernelspec": {
   "display_name": "Python 3",
   "language": "python",
   "name": "python3"
  },
  "language_info": {
   "codemirror_mode": {
    "name": "ipython",
    "version": 3
   },
   "file_extension": ".py",
   "mimetype": "text/x-python",
   "name": "python",
   "nbconvert_exporter": "python",
   "pygments_lexer": "ipython3",
   "version": "3.8.5"
  }
 },
 "nbformat": 4,
 "nbformat_minor": 4
}
