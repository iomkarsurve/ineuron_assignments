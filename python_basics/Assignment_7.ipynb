{
  "nbformat": 4,
  "nbformat_minor": 0,
  "metadata": {
    "colab": {
      "name": "Assignment_7.ipynb",
      "provenance": [],
      "collapsed_sections": []
    },
    "kernelspec": {
      "name": "python3",
      "display_name": "Python 3"
    },
    "language_info": {
      "name": "python"
    }
  },
  "cells": [
    {
      "cell_type": "markdown",
      "source": [
        "1. What is the name of the feature responsible for generating Regex objects?"
      ],
      "metadata": {
        "id": "IpvofU5HNltl"
      }
    },
    {
      "cell_type": "code",
      "source": [
        "# re module is used for regex object generation \n",
        "import re"
      ],
      "metadata": {
        "id": "FjDEAs3CNjuh"
      },
      "execution_count": null,
      "outputs": []
    },
    {
      "cell_type": "markdown",
      "source": [
        "2. Why do raw strings often appear in Regex objects?"
      ],
      "metadata": {
        "id": "RstqG9PBNqBi"
      }
    },
    {
      "cell_type": "code",
      "source": [
        "# regex object prevent backslash from escaping in raw strings.\n",
        "\n",
        "txt = \"this is text with 55 1\"\n",
        "\n",
        "x = re.findall(\"\\d\", txt) # finds digits\n",
        "print(x)\n"
      ],
      "metadata": {
        "colab": {
          "base_uri": "https://localhost:8080/"
        },
        "id": "flMh6eHpNjwo",
        "outputId": "7ca1967b-cf7a-4cb3-f248-39015e33abfa"
      },
      "execution_count": null,
      "outputs": [
        {
          "output_type": "stream",
          "name": "stdout",
          "text": [
            "['5', '5', '1']\n"
          ]
        }
      ]
    },
    {
      "cell_type": "markdown",
      "source": [
        "3. What is the return value of the search() method?"
      ],
      "metadata": {
        "id": "YXkr4DEHNsWX"
      }
    },
    {
      "cell_type": "code",
      "source": [
        "#search() method returns match object when it finds pattern else none\n",
        "\n",
        "txt = \"this is text with 55 1\"\n",
        "\n",
        "y= re.search(\"\\s\",txt) #find spaces pattern in string\n",
        "print(y.start())\n"
      ],
      "metadata": {
        "colab": {
          "base_uri": "https://localhost:8080/"
        },
        "id": "9eOc6zUKNjy2",
        "outputId": "1c9cd214-3000-49c2-cad5-435233318e72"
      },
      "execution_count": null,
      "outputs": [
        {
          "output_type": "stream",
          "name": "stdout",
          "text": [
            "4\n"
          ]
        }
      ]
    },
    {
      "cell_type": "markdown",
      "source": [
        "4. From a Match item, how do you get the actual strings that match the pattern?"
      ],
      "metadata": {
        "id": "aMXVySm2NurT"
      }
    },
    {
      "cell_type": "code",
      "source": [
        "#group() method returns matched pattern\n",
        "txt = \"This is Statement\"\n",
        "\n",
        "z=re.search(r\"\\bT\\w+\",txt) #search to find pattern\n",
        "\n",
        "print(z.group()) #group returns matched pattern\n"
      ],
      "metadata": {
        "colab": {
          "base_uri": "https://localhost:8080/"
        },
        "id": "bYk7i4yJNj1K",
        "outputId": "53bd8662-4704-4373-fd64-97b3cd1454c8"
      },
      "execution_count": null,
      "outputs": [
        {
          "output_type": "stream",
          "name": "stdout",
          "text": [
            "This\n"
          ]
        }
      ]
    },
    {
      "cell_type": "markdown",
      "source": [
        "5. In the regex which created from the r'(\\d\\d\\d)-(\\d\\d\\d-\\d\\d\\d\\d)', what does group zero cover? Group 2? Group 1?"
      ],
      "metadata": {
        "id": "FekBZEcyNwvq"
      }
    },
    {
      "cell_type": "code",
      "source": [
        "# (\\d\\d\\d) is 3 digit number with each \\d [0-9]\n",
        "\n",
        "#did not understand group question\n"
      ],
      "metadata": {
        "id": "9AsxsLDwNj5r"
      },
      "execution_count": null,
      "outputs": []
    },
    {
      "cell_type": "markdown",
      "source": [
        "6. In standard expression syntax, parentheses and intervals have distinct meanings. How can you tell a regex that you want it to fit real parentheses and periods?"
      ],
      "metadata": {
        "id": "Ft3_hEJjN6CO"
      }
    },
    {
      "cell_type": "code",
      "source": [
        "# period by \\. \n",
        "# parantheses by \\(  and  \\)\n"
      ],
      "metadata": {
        "id": "bA1LFfYbNj71"
      },
      "execution_count": null,
      "outputs": []
    },
    {
      "cell_type": "markdown",
      "source": [
        "7. The findall() method returns a string list or a list of string tuples. What causes it to return one of the two options?"
      ],
      "metadata": {
        "id": "ZJQLa4xQN8EQ"
      }
    },
    {
      "cell_type": "code",
      "source": [
        "txt = \"this is text with 55 11\"\n",
        "\n",
        "\n",
        "z=re.findall(r\"\\d\\w+\",txt) #search to find pattern\n",
        "print(z)\n",
        "print(type(z))\n",
        "\n",
        "# returns list of matched pattern if found, if not found then returns empty list\n",
        "\n"
      ],
      "metadata": {
        "colab": {
          "base_uri": "https://localhost:8080/"
        },
        "id": "xynu3x8PNj-I",
        "outputId": "d6abb7f2-fc1b-4ab5-bee7-861042679b18"
      },
      "execution_count": null,
      "outputs": [
        {
          "output_type": "stream",
          "name": "stdout",
          "text": [
            "['55', '11']\n",
            "<class 'list'>\n"
          ]
        }
      ]
    },
    {
      "cell_type": "markdown",
      "source": [
        "8. In standard expressions, what does the | character mean?"
      ],
      "metadata": {
        "id": "ZtwwI3Q5N9YL"
      }
    },
    {
      "cell_type": "code",
      "source": [
        "#in standard expressions \"|\" means OR operand "
      ],
      "metadata": {
        "id": "Vedmn3p8NkBm"
      },
      "execution_count": null,
      "outputs": []
    },
    {
      "cell_type": "markdown",
      "source": [
        "9. In regular expressions, what does the character stand for?"
      ],
      "metadata": {
        "id": "-VWddiCYOAh9"
      }
    },
    {
      "cell_type": "code",
      "source": [
        "# it is used to match zero or one occurance of the preceding character"
      ],
      "metadata": {
        "id": "bVXzwP3QOCW_"
      },
      "execution_count": null,
      "outputs": []
    },
    {
      "cell_type": "markdown",
      "source": [
        "10.In regular expressions, what is the difference between the + and * characters?"
      ],
      "metadata": {
        "id": "MelSMmocYxdI"
      }
    },
    {
      "cell_type": "code",
      "source": [
        "#+ means one or more character occurance\n",
        "# * means zero or more occurrences of the preceding element.\n",
        "print(\"zero +\")\n",
        "txt = \" heo\"\n",
        "x = re.findall(\"he.+o\", txt)\n",
        "print(x)\n",
        "print(\"more *\")\n",
        "txt = \" hello\"\n",
        "x = re.findall(\"he.+o\", txt)\n",
        "print(x)\n",
        "\n",
        "print(\"zero *\")\n",
        "txt = \"heo\"\n",
        "x = re.findall(\"he.*o\", txt)\n",
        "print(x)\n",
        "print(\"more *\")\n",
        "txt = \"helllllo\"\n",
        "x = re.findall(\"he.*o\", txt)\n",
        "print(x)\n"
      ],
      "metadata": {
        "id": "3yPV1Q2dOCZG",
        "colab": {
          "base_uri": "https://localhost:8080/"
        },
        "outputId": "7cd14c62-80ea-4a6a-a655-ccc04eb4c991"
      },
      "execution_count": 63,
      "outputs": [
        {
          "output_type": "stream",
          "name": "stdout",
          "text": [
            "zero +\n",
            "[]\n",
            "more *\n",
            "['hello']\n",
            "zero *\n",
            "['heo']\n",
            "more *\n",
            "['helllllo']\n"
          ]
        }
      ]
    },
    {
      "cell_type": "markdown",
      "source": [
        "11. What is the difference between {4} and {4,5} in regular expression?"
      ],
      "metadata": {
        "id": "8eFmGHCXc8rL"
      }
    },
    {
      "cell_type": "code",
      "source": [
        "# {4} matches expression to its left 4 times and not less\n",
        "# {4,5} matches the expression to its left 4 to 5 times and not less.\n",
        "h= re.compile(r'^\\d{1,4}(,\\d{4})*$')\n",
        "txt='123,4456,4789'\n",
        "x= h.match(txt)\n",
        "\n",
        "print(x.group())"
      ],
      "metadata": {
        "id": "U90ZUhepOCch",
        "colab": {
          "base_uri": "https://localhost:8080/"
        },
        "outputId": "fbe8da87-f384-4c09-cca5-4c65b538bd64"
      },
      "execution_count": 150,
      "outputs": [
        {
          "output_type": "stream",
          "name": "stdout",
          "text": [
            "123,4456,4789\n"
          ]
        }
      ]
    },
    {
      "cell_type": "markdown",
      "source": [
        "12. What do you mean by the \\d, \\w, and \\s shorthand character classes signify in regular expressions?\n"
      ],
      "metadata": {
        "id": "K6XlsF5wc-Gk"
      }
    },
    {
      "cell_type": "code",
      "source": [
        "# \\d matches digits 0-9\n",
        "# \\w matches alphanumeric characters and also underscore a-z A-z 0-0 _\n",
        "#\\s matches whitespace characters \\t \\n \\r and space  "
      ],
      "metadata": {
        "id": "ZrDvH3_JOCkU"
      },
      "execution_count": null,
      "outputs": []
    },
    {
      "cell_type": "markdown",
      "source": [
        "13. What do means by \\D, \\W, and \\S shorthand character classes signify in regular expressions?"
      ],
      "metadata": {
        "id": "DV7W8NhWdDry"
      }
    },
    {
      "cell_type": "code",
      "source": [
        "# \\D matches any non-digits single character\n",
        "# \\W matches any non-word characters single character\n",
        "# \\S matches any non-whitespace single character.\n",
        "\n",
        "txt = \"the is string\"\n",
        "y= re.search(\"\\D\",txt) \n",
        "print(y.group())\n",
        "\n",
        "txt = \"@#$\"\n",
        "y= re.search(\"\\D\",txt) \n",
        "print(y.group())\n",
        "\n",
        "txt = \"it is \"\n",
        "z= re.search(\"\\W\",txt) \n",
        "print(z)\n",
        "\n",
        "txt = \"@ # $\"\n",
        "y= re.search(\"\\S\",txt) \n",
        "print(y.group())\n",
        "\n",
        "\n",
        "\n",
        "\n",
        "\n",
        "\n",
        "\n",
        "\n"
      ],
      "metadata": {
        "id": "bJjtle3LOCnx",
        "colab": {
          "base_uri": "https://localhost:8080/"
        },
        "outputId": "5c732031-5e5f-44d3-bf68-c1a97ee6833c"
      },
      "execution_count": 143,
      "outputs": [
        {
          "output_type": "stream",
          "name": "stdout",
          "text": [
            "t\n",
            "@\n",
            "<re.Match object; span=(2, 3), match=' '>\n",
            "@\n"
          ]
        }
      ]
    },
    {
      "cell_type": "markdown",
      "source": [
        "14. What is the difference between .*? and .*?"
      ],
      "metadata": {
        "id": "e7X2Z6vodIJc"
      }
    },
    {
      "cell_type": "code",
      "source": [
        "# . matches any character\n",
        "# .? matches zero or one characters\n",
        "\n",
        "txt = \"hello\"\n",
        "x = re.findall(\"he..o\", txt)\n",
        "print(x)\n",
        "\n",
        "txt = \"helo\"\n",
        "x = re.findall(\"he.?o\", txt)\n",
        "print(x)"
      ],
      "metadata": {
        "id": "SAvTGFv6OC0U",
        "colab": {
          "base_uri": "https://localhost:8080/"
        },
        "outputId": "5951c218-48d8-4434-dbf2-48bcca83da1a"
      },
      "execution_count": 106,
      "outputs": [
        {
          "output_type": "stream",
          "name": "stdout",
          "text": [
            "['hello']\n",
            "['helo']\n"
          ]
        }
      ]
    },
    {
      "cell_type": "markdown",
      "source": [
        "15. What is the syntax for matching both numbers and lowercase letters with a character class?"
      ],
      "metadata": {
        "id": "y7CP4BT8dKT3"
      }
    },
    {
      "cell_type": "code",
      "source": [
        "txt=\"hello1\"\n",
        "if re.match(r'^[a-z0-9]*$',txt):\n",
        "  print(\" matched\")\n",
        "else:\n",
        "  print(\"not matched\")\n"
      ],
      "metadata": {
        "id": "FWXICzP_OC2p",
        "colab": {
          "base_uri": "https://localhost:8080/"
        },
        "outputId": "101255a7-4ce5-4bc4-e12f-8bea453e014b"
      },
      "execution_count": 98,
      "outputs": [
        {
          "output_type": "stream",
          "name": "stdout",
          "text": [
            " matched\n"
          ]
        }
      ]
    },
    {
      "cell_type": "markdown",
      "source": [
        "16. What is the procedure for making a normal expression in regax case insensitive?"
      ],
      "metadata": {
        "id": "C2U-YDbWdM4z"
      }
    },
    {
      "cell_type": "code",
      "source": [
        "# using re.IGNORECASE as argument"
      ],
      "metadata": {
        "id": "xSXHUxmYOC6O"
      },
      "execution_count": null,
      "outputs": []
    },
    {
      "cell_type": "markdown",
      "source": [
        "17. What does the . character normally match? What does it match if re.DOTALL is passed as 2nd argument in re.compile()?"
      ],
      "metadata": {
        "id": "MAGq6sxhdPUZ"
      }
    },
    {
      "cell_type": "code",
      "source": [
        "#dot character matches everything except newline\n",
        "\n",
        "# re.DOTALL as second argyment matches all characters including newline."
      ],
      "metadata": {
        "id": "x3UPXLIRdRA0"
      },
      "execution_count": null,
      "outputs": []
    },
    {
      "cell_type": "markdown",
      "source": [
        "18. If numReg = re.compile(r'\\d+'), what will numRegex.sub('X', '11 drummers, 10 pipers, five rings, 4 hen') return?"
      ],
      "metadata": {
        "id": "UMheHLZOdRg2"
      }
    },
    {
      "cell_type": "code",
      "source": [
        "# output will be 'X drummers, X pipers,X rings, X hen'"
      ],
      "metadata": {
        "id": "kshWRoKWdR2M"
      },
      "execution_count": null,
      "outputs": []
    },
    {
      "cell_type": "markdown",
      "source": [
        "19. What does passing re.VERBOSE as the 2nd argument to re.compile() allow to do?"
      ],
      "metadata": {
        "id": "6e-8YarUdSBI"
      }
    },
    {
      "cell_type": "code",
      "source": [
        "h=re.compile(r\"\"\"[A-Z][a-z]*\n",
        "              \\sWatanabe\"\"\", #comment\n",
        "             re.VERBOSE)\n",
        "\n",
        "\n",
        "txt = 'Haruto Watanabe'\n",
        "x= h.match(txt)\n",
        "\n",
        "print(x.group())\n",
        "\n",
        "\n",
        "# re.VERBOSE allow to add whitespace and comments to pattern string used for matching."
      ],
      "metadata": {
        "colab": {
          "base_uri": "https://localhost:8080/"
        },
        "id": "Q_YTstkAdXGU",
        "outputId": "ddcb0bf2-e00e-4355-9752-cb25f0bce813"
      },
      "execution_count": 89,
      "outputs": [
        {
          "output_type": "stream",
          "name": "stdout",
          "text": [
            "Haruto Watanabe\n"
          ]
        }
      ]
    },
    {
      "cell_type": "markdown",
      "source": [
        "20. How would you write a regex that match a number with comma for every three digits? It must match the given following:\n",
        "'42'\n",
        "'1,234'\n",
        "'6,368,745'\n",
        "but not the following:\n",
        "'12,34,567' (which has only two digits between the commas)\n",
        "'1234' (which lacks commas)\n"
      ],
      "metadata": {
        "id": "YOnJIzUCdXZs"
      }
    },
    {
      "cell_type": "code",
      "source": [
        "h= re.compile(r'^\\d{1,3}(,\\d{3})*$')\n",
        "txt='32,342,334'\n",
        "x= h.match(txt)\n",
        "\n",
        "print(x.group())"
      ],
      "metadata": {
        "colab": {
          "base_uri": "https://localhost:8080/"
        },
        "id": "C2xr9LXpdXol",
        "outputId": "e00fd284-6146-4afd-87b8-e78fd4e1317f"
      },
      "execution_count": 88,
      "outputs": [
        {
          "output_type": "stream",
          "name": "stdout",
          "text": [
            "32,342,334\n"
          ]
        }
      ]
    },
    {
      "cell_type": "markdown",
      "source": [
        "21. How would you write a regex that matches the full name of someone whose last name is Watanabe? You can assume that the first name that comes before it will always be one word that begins with a capital letter. The regex must match the following:\n",
        "'Haruto Watanabe'\n",
        "'Alice Watanabe'\n",
        "'RoboCop Watanabe'\n",
        "but not the following:\n",
        "'haruto Watanabe' (where the first name is not capitalized)\n",
        "'Mr. Watanabe' (where the preceding word has a nonletter character)\n",
        "'Watanabe' (which has no first name)\n",
        "'Haruto watanabe' (where Watanabe is not capitalized)\n"
      ],
      "metadata": {
        "id": "RWAcdPo9ddOK"
      }
    },
    {
      "cell_type": "code",
      "source": [
        "h = re.compile(r'[A-Z][a-z]*\\sWatanabe')\n",
        "\n",
        "\n",
        "txt = 'Haruto Watanabe'\n",
        "x= h.match(txt)\n",
        "\n",
        "print(x.group())\n",
        "\n",
        "\n",
        "txt = 'Mr. Watanabe'\n",
        "x= h.match(txt)\n",
        "\n",
        "print(x.group())\n",
        "\n"
      ],
      "metadata": {
        "colab": {
          "base_uri": "https://localhost:8080/",
          "height": 243
        },
        "id": "Ypgiy9RhddbQ",
        "outputId": "065f0707-92d2-4941-fcea-69441b9a68e6"
      },
      "execution_count": 82,
      "outputs": [
        {
          "output_type": "stream",
          "name": "stdout",
          "text": [
            "Haruto Watanabe\n"
          ]
        },
        {
          "output_type": "error",
          "ename": "AttributeError",
          "evalue": "ignored",
          "traceback": [
            "\u001b[0;31m---------------------------------------------------------------------------\u001b[0m",
            "\u001b[0;31mAttributeError\u001b[0m                            Traceback (most recent call last)",
            "\u001b[0;32m<ipython-input-82-66e040ba52b4>\u001b[0m in \u001b[0;36m<module>\u001b[0;34m()\u001b[0m\n\u001b[1;32m     11\u001b[0m \u001b[0mx\u001b[0m\u001b[0;34m=\u001b[0m \u001b[0mh\u001b[0m\u001b[0;34m.\u001b[0m\u001b[0mmatch\u001b[0m\u001b[0;34m(\u001b[0m\u001b[0mtxt\u001b[0m\u001b[0;34m)\u001b[0m\u001b[0;34m\u001b[0m\u001b[0;34m\u001b[0m\u001b[0m\n\u001b[1;32m     12\u001b[0m \u001b[0;34m\u001b[0m\u001b[0m\n\u001b[0;32m---> 13\u001b[0;31m \u001b[0mprint\u001b[0m\u001b[0;34m(\u001b[0m\u001b[0mx\u001b[0m\u001b[0;34m.\u001b[0m\u001b[0mgroup\u001b[0m\u001b[0;34m(\u001b[0m\u001b[0;34m)\u001b[0m\u001b[0;34m)\u001b[0m\u001b[0;34m\u001b[0m\u001b[0;34m\u001b[0m\u001b[0m\n\u001b[0m\u001b[1;32m     14\u001b[0m \u001b[0;34m\u001b[0m\u001b[0m\n",
            "\u001b[0;31mAttributeError\u001b[0m: 'NoneType' object has no attribute 'group'"
          ]
        }
      ]
    },
    {
      "cell_type": "markdown",
      "source": [
        "22. How would you write a regex that matches a sentence where the first word is either Alice, Bob, or Carol; the second word is either eats, pets, or throws; the third word is apples, cats, or baseballs; and the sentence ends with a period? This regex should be case-insensitive. It must match the following:\n",
        "'Alice eats apples.'\n",
        "'Bob pets cats.'\n",
        "'Carol throws baseballs.'\n",
        "'Alice throws Apples.'\n",
        "'BOB EATS CATS.'\n",
        "but not the following:\n",
        "'RoboCop eats apples.'\n",
        "'ALICE THROWS FOOTBALLS.'\n",
        "'Carol eats 7 cats.'\n"
      ],
      "metadata": {
        "id": "vV4TpwXKdd0-"
      }
    },
    {
      "cell_type": "code",
      "source": [
        "txt = \"Alice eats apples.\"\n",
        "\n",
        "h = re.compile(r'(Alice|Bob|Carol)\\s(eats|pets|throws)\\s(apples|cats|baseballs)\\.', re.IGNORECASE)\n",
        "\n",
        "x= h.match(txt)\n",
        "\n",
        "print(x.group())\n",
        "\n",
        "\n",
        "txt = 'ALICE THROWS FOOTBALLS.'\n",
        "x= h.match(txt)\n",
        "\n",
        "print(x.group())\n",
        "\n"
      ],
      "metadata": {
        "colab": {
          "base_uri": "https://localhost:8080/",
          "height": 243
        },
        "id": "_NP69kVHdd_Y",
        "outputId": "2e0350c5-fdb5-4016-cbc2-0ac91029c0ee"
      },
      "execution_count": 76,
      "outputs": [
        {
          "output_type": "stream",
          "name": "stdout",
          "text": [
            "Alice eats apples.\n"
          ]
        },
        {
          "output_type": "error",
          "ename": "AttributeError",
          "evalue": "ignored",
          "traceback": [
            "\u001b[0;31m---------------------------------------------------------------------------\u001b[0m",
            "\u001b[0;31mAttributeError\u001b[0m                            Traceback (most recent call last)",
            "\u001b[0;32m<ipython-input-76-389cbe0e0e70>\u001b[0m in \u001b[0;36m<module>\u001b[0;34m()\u001b[0m\n\u001b[1;32m     11\u001b[0m \u001b[0mx\u001b[0m\u001b[0;34m=\u001b[0m \u001b[0mh\u001b[0m\u001b[0;34m.\u001b[0m\u001b[0mmatch\u001b[0m\u001b[0;34m(\u001b[0m\u001b[0mtxt\u001b[0m\u001b[0;34m)\u001b[0m\u001b[0;34m\u001b[0m\u001b[0;34m\u001b[0m\u001b[0m\n\u001b[1;32m     12\u001b[0m \u001b[0;34m\u001b[0m\u001b[0m\n\u001b[0;32m---> 13\u001b[0;31m \u001b[0mprint\u001b[0m\u001b[0;34m(\u001b[0m\u001b[0mx\u001b[0m\u001b[0;34m.\u001b[0m\u001b[0mgroup\u001b[0m\u001b[0;34m(\u001b[0m\u001b[0;34m)\u001b[0m\u001b[0;34m)\u001b[0m\u001b[0;34m\u001b[0m\u001b[0;34m\u001b[0m\u001b[0m\n\u001b[0m\u001b[1;32m     14\u001b[0m \u001b[0;34m\u001b[0m\u001b[0m\n",
            "\u001b[0;31mAttributeError\u001b[0m: 'NoneType' object has no attribute 'group'"
          ]
        }
      ]
    }
  ]
}